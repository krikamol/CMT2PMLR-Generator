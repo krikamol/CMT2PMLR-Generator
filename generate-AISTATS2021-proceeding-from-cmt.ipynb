{
 "cells": [
  {
   "cell_type": "code",
   "execution_count": null,
   "metadata": {},
   "outputs": [],
   "source": [
    "import pandas as pd\n",
    "import re\n",
    "import os\n",
    "from shutil import copyfile, Error\n",
    "from jinja2 import Environment, FileSystemLoader"
   ]
  },
  {
   "cell_type": "markdown",
   "metadata": {},
   "source": [
    "# Initialization"
   ]
  },
  {
   "cell_type": "code",
   "execution_count": null,
   "metadata": {},
   "outputs": [],
   "source": [
    "path = '/home/User/Documents'\n",
    "crp_file  = 'CameraReadyPapers-11-03-2021.xls'\n",
    "crp_sheet = 'AISTATS2021'\n",
    "org_pdf_folder = os.path.abspath('org_pdfs')\n",
    "dest_pdf_folder = os.path.abspath('dest_pdfs')"
   ]
  },
  {
   "cell_type": "markdown",
   "metadata": {},
   "source": [
    "# Read CMT export file"
   ]
  },
  {
   "cell_type": "code",
   "execution_count": null,
   "metadata": {},
   "outputs": [],
   "source": [
    "CRP = pd.read_excel(crp_file,sheet_name=crp_sheet)\n",
    "CRP.head()"
   ]
  },
  {
   "cell_type": "markdown",
   "metadata": {},
   "source": [
    "## Run some basic validations"
   ]
  },
  {
   "cell_type": "code",
   "execution_count": null,
   "metadata": {},
   "outputs": [],
   "source": [
    "CRP[[\"Q3 (Student Author)\"]]"
   ]
  },
  {
   "cell_type": "markdown",
   "metadata": {},
   "source": [
    "# Generate the AISTATS2021 Proceeding"
   ]
  },
  {
   "cell_type": "markdown",
   "metadata": {},
   "source": [
    "## Preprocess the meta data"
   ]
  },
  {
   "cell_type": "code",
   "execution_count": null,
   "metadata": {},
   "outputs": [],
   "source": [
    "# a dictionary containing papers as dictionaries. Each paper must consist of\n",
    "# (1) title \n",
    "# (2) author (lastname, firstnames format separated by 'and') \n",
    "# (3) pages in “startpage–endpage” format\n",
    "# (4) abstract\n",
    "papers = {} \n",
    "identifiers = {}\n",
    "\n",
    "pages_count = 1\n",
    "num_pages = 9\n",
    "YY = '21'\n",
    "for index, row in CRP.iterrows():\n",
    "    \n",
    "    # read the paper information (paper id, title, authors, and abstract)\n",
    "    paper_id = row['Paper ID']\n",
    "    title    = row['Paper Title'].strip()\n",
    "    authors  = row['Author Names'].strip()\n",
    "    abstract = row['Abstract'].strip()\n",
    "    files    = row['Files'].strip()\n",
    "    \n",
    "    # remove the newline character in the abstract\n",
    "    abstract = \" \".join(abstract.split())\n",
    "    \n",
    "    # extract filenames\n",
    "    flist = list(filter(None,re.split(r'\\(.*?bytes\\);?',files)))\n",
    "    flist = [f.strip() for f in flist]\n",
    "    \n",
    "    # preprocess the author names and extract the identifier (author's lastname) \n",
    "    alist = list(filter(None,re.split(r'\\(.*?\\)\\*?;?', authors)))\n",
    "    alist = [a.strip() for a in alist]\n",
    "    \n",
    "    first_author_lastname = alist[0].split()[-1]\n",
    "    paper_key = first_author_lastname + YY\n",
    "    if first_author_lastname in identifiers:\n",
    "        paper_key += chr(ord('a')+identifiers[first_author_lastname])\n",
    "        identifiers[first_author_lastname] += 1 \n",
    "    else:\n",
    "        identifiers[first_author_lastname] = 1\n",
    "        \n",
    "    # format the author list\n",
    "    new_alist = []\n",
    "    for i in range(len(alist)):  \n",
    "        new_alist.append(', '.join([' '.join(alist[i].split()[1:]), alist[i].split()[0]]))\n",
    "    author_list = ' and '.join(new_alist)\n",
    "        \n",
    "    # add the paper to the dictionary\n",
    "    papers[paper_key] = {'key': paper_key,\n",
    "                         'id': paper_id, \n",
    "                         'title': title, \n",
    "                         'authors': author_list,\n",
    "                         'files': flist,\n",
    "                         'pages':'{}-{}'.format(pages_count,pages_count+num_pages-1), \n",
    "                         'abstract': abstract} \n",
    "    pages_count += num_pages"
   ]
  },
  {
   "cell_type": "code",
   "execution_count": null,
   "metadata": {},
   "outputs": [],
   "source": [
    "print('Number of pages: {}, Number of papers: {}'.format(pages_count,(pages_count-1)/num_pages))"
   ]
  },
  {
   "cell_type": "markdown",
   "metadata": {},
   "source": [
    "## Preprocess the pdfs"
   ]
  },
  {
   "cell_type": "code",
   "execution_count": null,
   "metadata": {},
   "outputs": [],
   "source": [
    "def copy_file(src, dest):\n",
    "    try:\n",
    "        copyfile(src, dest)\n",
    "    except Error as err: \n",
    "        errors.extend(err.args[0])    "
   ]
  },
  {
   "cell_type": "code",
   "execution_count": null,
   "metadata": {},
   "outputs": [],
   "source": [
    "problematic_papers = {}\n",
    "form_not_found = 'permission form not found.'\n",
    "main_not_found = 'main paper not found.'\n",
    "supp_not_found = 'supplementary file may not exist.'\n",
    "multiple_supps = 'multiple supplementary files.'\n",
    "\n",
    "for iden in papers:\n",
    "    paper_id   = papers[iden]['id']\n",
    "    main_paper = '{}.pdf'.format(paper_id)\n",
    "    supplement = '{}-supp'.format(paper_id)\n",
    "    perm_form  = '{}-Permission.pdf'.format(paper_id)\n",
    "    \n",
    "    # process main paper\n",
    "    if main_paper in papers[iden]['files']:\n",
    "        org_file  = os.path.join(org_pdf_folder,'{}\\CameraReady\\{}'.format(paper_id,main_paper))\n",
    "    else:\n",
    "        potential_main = [mf for mf in papers[iden]['files'] \n",
    "                          if any(subt for subt in ['main','camera','ready'] if subt in mf.lower())]\n",
    "        if any(potential_main):\n",
    "            org_file  = os.path.join(org_pdf_folder,'{}\\CameraReady\\{}'.format(paper_id,potential_main[0]))\n",
    "        else:\n",
    "            problematic_papers[iden] = main_not_found\n",
    "            continue\n",
    "    \n",
    "    dest_file = os.path.join(dest_pdf_folder,'{}.pdf'.format(iden))\n",
    "    copy_file(org_file, dest_file)\n",
    "    \n",
    "    # process permission form\n",
    "    if perm_form in papers[iden]['files']:\n",
    "        org_file  = os.path.join(org_pdf_folder,'{}\\CameraReady\\{}'.format(paper_id,perm_form))\n",
    "    else:\n",
    "        potential_form = [pf for pf in papers[iden]['files'] \n",
    "                          if any(subt for subt in ['permission','pmlr','agreement','license'] if subt in pf.lower())]\n",
    "        if any(potential_form):\n",
    "            org_file  = os.path.join(org_pdf_folder,'{}\\CameraReady\\{}'.format(paper_id,potential_form[0]))\n",
    "        else:\n",
    "            problematic_papers[iden] = form_not_found\n",
    "            continue\n",
    "        \n",
    "    dest_file = os.path.join(dest_pdf_folder,'{}-Permission.pdf'.format(iden))\n",
    "    copy_file(org_file, dest_file)\n",
    "        \n",
    "    # process supplementary file\n",
    "    supplement_file = [sf for sf in papers[iden]['files'] if supplement in sf]\n",
    "    if any(supplement_file):\n",
    "        if len(supplement_file) == 1:\n",
    "            supplement_file = supplement_file[0]\n",
    "            supp_ext = os.path.splitext(supplement_file)[1]\n",
    "            org_file  = os.path.join(org_pdf_folder,'{}\\CameraReady\\{}'.format(paper_id,supplement_file))\n",
    "        else:\n",
    "            problematic_papers[iden] = multiple_supps\n",
    "            continue\n",
    "            \n",
    "    else:\n",
    "        potential_supp = [ps for ps in papers[iden]['files'] \n",
    "                          if any(subt for subt in ['sup','supp','supplementary','appendix'] if subt in ps.lower())]\n",
    "        \n",
    "        if any(potential_supp):\n",
    "            supp_ext = os.path.splitext(potential_supp[0])[1]\n",
    "            org_file  = os.path.join(org_pdf_folder,'{}\\CameraReady\\{}'.format(paper_id,potential_supp[0]))    \n",
    "        else:\n",
    "            problematic_papers[iden] = supp_not_found\n",
    "            continue\n",
    "    \n",
    "    dest_file = os.path.join(dest_pdf_folder,'{}-supp{}'.format(iden,supp_ext))\n",
    "    copy_file(org_file, dest_file)"
   ]
  },
  {
   "cell_type": "code",
   "execution_count": null,
   "metadata": {},
   "outputs": [],
   "source": [
    "no_permission_form = [p for p in problematic_papers if problematic_papers[p] == form_not_found]\n",
    "no_main_paper      = [p for p in problematic_papers if problematic_papers[p] == main_not_found]\n",
    "no_supplement      = [p for p in problematic_papers if problematic_papers[p] == supp_not_found]\n",
    "multiple_supps     = [p for p in problematic_papers if problematic_papers[p] == multiple_supps]\n",
    "\n",
    "print('Number of problematic papers: {}'.format(len(problematic_papers)))\n",
    "print('No permission form: {}'.format(len(no_permission_form)))\n",
    "print('No main paper: {}'.format(len(no_main_paper)))\n",
    "print('No supplementary: {}'.format(len(no_supplement)))\n",
    "print('Multiple supplements: {}'.format(len(multiple_supps)))"
   ]
  },
  {
   "cell_type": "code",
   "execution_count": null,
   "metadata": {},
   "outputs": [],
   "source": [
    "[papers[key]['id'] for key in no_main_paper]"
   ]
  },
  {
   "cell_type": "code",
   "execution_count": null,
   "metadata": {},
   "outputs": [],
   "source": [
    "[papers[key]['id'] for key in no_permission_form]"
   ]
  },
  {
   "cell_type": "code",
   "execution_count": null,
   "metadata": {},
   "outputs": [],
   "source": [
    "[papers[key]['id'] for key in no_supplement]"
   ]
  },
  {
   "cell_type": "markdown",
   "metadata": {},
   "source": [
    "## Export the bibtex file"
   ]
  },
  {
   "cell_type": "code",
   "execution_count": null,
   "metadata": {},
   "outputs": [],
   "source": [
    "file_loader = FileSystemLoader('templates')\n",
    "env = Environment(loader=file_loader)\n",
    "template = env.get_template('bibtex_template.txt')\n",
    "aistats21_bibtex = template.render(papers=papers)\n",
    "\n",
    "f = open('aistats21.bib','w')\n",
    "f.write(aistats21_bibtex)\n",
    "f.close()"
   ]
  },
  {
   "cell_type": "code",
   "execution_count": null,
   "metadata": {},
   "outputs": [],
   "source": []
  },
  {
   "cell_type": "code",
   "execution_count": null,
   "metadata": {},
   "outputs": [],
   "source": []
  }
 ],
 "metadata": {
  "kernelspec": {
   "display_name": "Python 3",
   "language": "python",
   "name": "python3"
  },
  "language_info": {
   "codemirror_mode": {
    "name": "ipython",
    "version": 3
   },
   "file_extension": ".py",
   "mimetype": "text/x-python",
   "name": "python",
   "nbconvert_exporter": "python",
   "pygments_lexer": "ipython3",
   "version": "3.8.3"
  }
 },
 "nbformat": 4,
 "nbformat_minor": 2
}
