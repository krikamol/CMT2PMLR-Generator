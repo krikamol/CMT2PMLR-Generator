{
 "cells": [
  {
   "cell_type": "code",
   "execution_count": null,
   "metadata": {},
   "outputs": [],
   "source": [
    "import bibtexparser\n",
    "import pandas as pd\n",
    "import csv"
   ]
  },
  {
   "cell_type": "code",
   "execution_count": null,
   "metadata": {},
   "outputs": [],
   "source": [
    "# read AISTATS papers from cmt\n",
    "CRP = pd.read_excel('../CameraReadyPapers-11-03-2021.xls',sheet_name='AISTATS2021')\n",
    "\n",
    "# read AISTATS papers from bibtex \n",
    "with open('aistats21.bib') as bibtex_file:\n",
    "    bibtex_str = bibtex_file.read()\n",
    "    \n",
    "bibtex_database = bibtexparser.loads(bibtex_str)\n",
    "print(bibtex_database.entries)"
   ]
  },
  {
   "cell_type": "code",
   "execution_count": null,
   "metadata": {},
   "outputs": [],
   "source": [
    "pmlr_base_url = 'http://proceedings.mlr.press/v130/'\n",
    "papers = {}\n",
    "for entry in bibtex_database.entries:\n",
    "    paper_key = entry['ID'].lower()\n",
    "    paper_title = entry['title'].strip()\n",
    "    if paper_key.endswith('21'):\n",
    "        paper_key = paper_key + 'a'\n",
    "        \n",
    "    # find the paper ID in cmt\n",
    "    cmt = CRP.loc[CRP['Paper Title'] == paper_title]['Paper ID']\n",
    "    if cmt.values:\n",
    "        cmt_id = cmt.values[0]\n",
    "    else:\n",
    "        cmt_id = -1\n",
    "    papers[paper_key] = {'ID': cmt_id, 'title': paper_title, 'url': ''.join([pmlr_base_url,paper_key,'.html'])}\n",
    "    \n",
    "print(papers)"
   ]
  },
  {
   "cell_type": "code",
   "execution_count": null,
   "metadata": {},
   "outputs": [],
   "source": [
    "csv_file = 'pmlr-link-id.csv'\n",
    "try:\n",
    "    with open(csv_file,'w') as csvfile:\n",
    "        writer = csv.DictWriter(csvfile, delimiter='\\t', fieldnames=['ID','title','url'])\n",
    "        writer.writeheader()\n",
    "        \n",
    "        for key in papers:\n",
    "            writer.writerow(papers[key])\n",
    "except IOError:\n",
    "    print('Error')"
   ]
  },
  {
   "cell_type": "code",
   "execution_count": null,
   "metadata": {},
   "outputs": [],
   "source": []
  },
  {
   "cell_type": "code",
   "execution_count": null,
   "metadata": {},
   "outputs": [],
   "source": []
  }
 ],
 "metadata": {
  "kernelspec": {
   "display_name": "Python 3",
   "language": "python",
   "name": "python3"
  },
  "language_info": {
   "codemirror_mode": {
    "name": "ipython",
    "version": 3
   },
   "file_extension": ".py",
   "mimetype": "text/x-python",
   "name": "python",
   "nbconvert_exporter": "python",
   "pygments_lexer": "ipython3",
   "version": "3.8.3"
  }
 },
 "nbformat": 4,
 "nbformat_minor": 2
}
